{
 "cells": [
  {
   "cell_type": "code",
   "execution_count": 1,
   "id": "ebcc98c6",
   "metadata": {},
   "outputs": [],
   "source": [
    "from scipy.integrate import quad\n",
    "import numpy as np\n",
    "import math\n",
    "# Constantes en SI \n",
    "h = 6.62607015e-34    # Planck constant in Js\n",
    "c = 3.0e8    # Speed of light in m\n",
    "k_B = 1.380649e-23 # J/K\n",
    "sigma= (2*k_B**4 * math.pi**4)/ (c**2 * h**3 * 15)*math.pi\n",
    "M_sol_bol = 4.75\n",
    "T_eff_sol=5778\n",
    "L_sol = 3.827e26\n",
    "R_sol = 6.95700e8"
   ]
  },
  {
   "cell_type": "markdown",
   "id": "09665033",
   "metadata": {},
   "source": [
    "Cálculo de Magnitud Bolometrica $M_{bol}$\n",
    "\n",
    "Estrella 1\n",
    "\n",
    "$T_{eff} M2 = 3520$\n",
    "\n",
    "$R/R_{sol} M2 = 0.48$\n",
    "\n",
    "Estrella 2\n",
    "\n",
    "$T_{eff} B1 = 25400$\n",
    "\n",
    "$R/R_{sol}B1 = 5.2$\n",
    "\n",
    "Estrella 3\n",
    "\n",
    "$T_{eff} O5 = 42000$\n",
    "\n",
    "$R/R_{sol} O5 = 13.4$\n",
    "\n",
    "\n"
   ]
  },
  {
   "cell_type": "code",
   "execution_count": 2,
   "id": "19beadd4",
   "metadata": {},
   "outputs": [
    {
     "name": "stdout",
     "output_type": "stream",
     "text": [
      "Magnitud Bolométrica de la estrella tipo M2: 8.496142553422535\n",
      "Magnitud Bolométrica de la estrella tipo B1: -5.260578509291594\n",
      "Magnitud Bolométrica de la estrella tipo O5: -9.50024152072126\n"
     ]
    }
   ],
   "source": [
    "def calcular_magnitud_bolometrica(M_sol, T_eff, R_R_sol):\n",
    "    M = M_sol - 2.5 * math.log10((R_R_sol**2 * T_eff**4) / (T_eff_sol**4))\n",
    "    return M\n",
    "\n",
    "# Estrella 1\n",
    "T_eff_M2 = 3520\n",
    "R_R_sol_M2 = 0.48\n",
    "magnitud_bol_M2 = calcular_magnitud_bolometrica(M_sol_bol, T_eff_M2, R_R_sol_M2)\n",
    "print(f\"Magnitud Bolométrica de la estrella tipo M2: {magnitud_bol_M2}\")\n",
    "\n",
    "# Estrella 2\n",
    "T_eff_B1 = 25400\n",
    "R_R_sol_B1 = 5.2\n",
    "magnitud_bol_B1 = calcular_magnitud_bolometrica(M_sol_bol, T_eff_B1, R_R_sol_B1)\n",
    "print(f\"Magnitud Bolométrica de la estrella tipo B1: {magnitud_bol_B1}\")\n",
    "\n",
    "# Estrella 3\n",
    "T_eff_O5 = 42000\n",
    "R_R_sol_O5 = 13.4\n",
    "magnitud_bol_O5 = calcular_magnitud_bolometrica(M_sol_bol, T_eff_O5, R_R_sol_O5)\n",
    "print(f\"Magnitud Bolométrica de la estrella tipo O5: {magnitud_bol_O5}\")\n",
    "\n"
   ]
  },
  {
   "cell_type": "markdown",
   "id": "c7e8f064",
   "metadata": {},
   "source": [
    "Cálculo Magnitud Absoluta por casa Filtro: $M_U$ , $M_B$ , $M_V$\n",
    "\n",
    "$\\lambda_U = 365 \\times 10^{-9}$ \n",
    "\n",
    "$\\Delta_U =  68 \\times 10^{-9} $\n",
    "\n",
    "$\\lambda_B = 440 \\times 10^{-9}$\n",
    "\n",
    "$\\Delta_B =  98e \\times 10^{-9}$\n",
    "\n",
    "$\\lambda_V = 550\\times 10^{-9}$\n",
    "\n",
    "$\\Delta_V =  89e\\times 10^{-9} $\n"
   ]
  },
  {
   "cell_type": "code",
   "execution_count": 3,
   "id": "1a6116ee",
   "metadata": {},
   "outputs": [],
   "source": [
    "lambda_U = 365e-9 \n",
    "Delta_U =  68e-9 \n",
    "lambda_B = 440e-9\n",
    "Delta_B =  98e-9 \n",
    "lambda_V = 550e-9\n",
    "Delta_V =  89e-9 "
   ]
  },
  {
   "cell_type": "code",
   "execution_count": 4,
   "id": "0e67491e",
   "metadata": {},
   "outputs": [],
   "source": [
    "# Límites de integración: \n",
    "Uinf,Usup= (lambda_U-Delta_U),  (lambda_U+Delta_U) \n",
    "\n",
    "Binf,Bsup= (lambda_B-Delta_B),  (lambda_B+Delta_B)  \n",
    "\n",
    "Vinf,Vsup= (lambda_V-Delta_V),  (lambda_V+Delta_V)  \n"
   ]
  },
  {
   "cell_type": "code",
   "execution_count": 5,
   "id": "0af8528d",
   "metadata": {},
   "outputs": [],
   "source": [
    "def cuerpo_negro(lambd, temperatura):\n",
    "    return (2 * h * c) / (lambd**5 * (np.exp((h * c) / (lambd * k_B * temperatura)) - 1))\n",
    "\n",
    "def integrar_cuerpo_negro(temperatura, lambda_min, lambda_max):\n",
    "    resultado, _ = quad(cuerpo_negro, lambda_min, lambda_max, args=(temperatura,))\n",
    "    return resultado\n",
    "\n",
    "def density_flux_rad(B):\n",
    "    return B*math.pi\n"
   ]
  },
  {
   "cell_type": "markdown",
   "id": "1210898b",
   "metadata": {},
   "source": [
    "Densidad de flujo del sol en cada filtro"
   ]
  },
  {
   "cell_type": "code",
   "execution_count": 6,
   "id": "1330e40e",
   "metadata": {},
   "outputs": [
    {
     "name": "stdout",
     "output_type": "stream",
     "text": [
      "Resultado de la integral: 0.008797298828103555 Watts por metro cuadrado\n",
      "La densidad de flujo de radiación en V:0.027637529369804223W/m^2\n",
      "Resultado de la integral: 0.015693380946127135 Watts por metro cuadrado\n",
      "La densidad de flujo de radiación en V:0.049302210290339044W/m^2\n",
      "Resultado de la integral: 0.015058202665131906 Watts por metro cuadrado\n",
      "La densidad de flujo de radiación en V:0.047306738869044636W/m^2\n"
     ]
    }
   ],
   "source": [
    "#Densidad de flujo del sol en cada filtro\n",
    "#U\n",
    "resultado_Usol = integrar_cuerpo_negro(T_eff_sol, Uinf,Usup)\n",
    "print(f\"Resultado de la integral: {resultado_Usol} Watts por metro cuadrado\")\n",
    "FUsol=density_flux_rad(resultado_Usol)\n",
    "print(f\"La densidad de flujo de radiación en V:{FUsol}W/m^2\")\n",
    "#B\n",
    "resultado_Bsol = integrar_cuerpo_negro(T_eff_sol, Binf,Bsup)\n",
    "print(f\"Resultado de la integral: {resultado_Bsol} Watts por metro cuadrado\")\n",
    "FBsol=density_flux_rad(resultado_Bsol)\n",
    "print(f\"La densidad de flujo de radiación en V:{FBsol}W/m^2\")\n",
    "#V\n",
    "resultado_Vsol = integrar_cuerpo_negro(T_eff_sol, Vinf,Vsup)\n",
    "print(f\"Resultado de la integral: {resultado_Vsol} Watts por metro cuadrado\")\n",
    "FVsol=density_flux_rad(resultado_Vsol)\n",
    "print(f\"La densidad de flujo de radiación en V:{FVsol}W/m^2\")"
   ]
  },
  {
   "cell_type": "markdown",
   "id": "c9706431",
   "metadata": {},
   "source": [
    "Densidad de flujo de Estrella tipo M2 en cada filtro"
   ]
  },
  {
   "cell_type": "code",
   "execution_count": 7,
   "id": "28c4427b",
   "metadata": {},
   "outputs": [
    {
     "name": "stdout",
     "output_type": "stream",
     "text": [
      "Resultado de la integral: 0.0001267730666539231 Watts por metro cuadrado\n",
      "La densidad de flujo de radiación en U:0.000398269334873014W/m^2\n",
      "Resultado de la integral: 0.0004509874495809478 Watts por metro cuadrado\n",
      "La densidad de flujo de radiación en B:0.0014168188584647028W/m^2\n",
      "Resultado de la integral: 0.0001267730666539231 Watts por metro cuadrado\n",
      "La densidad de flujo de radiación en V:0.002562173628048591W/m^2\n"
     ]
    }
   ],
   "source": [
    "#Densidad de flujo de Estrella tipo M2 en cada filtro\n",
    "#U\n",
    "resultado_U_M2 = integrar_cuerpo_negro(T_eff_M2, Uinf,Usup)\n",
    "print(f\"Resultado de la integral: {resultado_U_M2} Watts por metro cuadrado\")\n",
    "FU_M2=density_flux_rad(resultado_U_M2)\n",
    "print(f\"La densidad de flujo de radiación en U:{FU_M2}W/m^2\")\n",
    "\n",
    "#B\n",
    "resultado_B_M2 = integrar_cuerpo_negro(T_eff_M2, Binf,Bsup)\n",
    "print(f\"Resultado de la integral: {resultado_B_M2} Watts por metro cuadrado\")\n",
    "FB_M2=density_flux_rad(resultado_B_M2)\n",
    "print(f\"La densidad de flujo de radiación en B:{FB_M2}W/m^2\")\n",
    "#V\n",
    "resultado_V_M2 = integrar_cuerpo_negro(T_eff_M2, Vinf,Vsup)\n",
    "print(f\"Resultado de la integral: {resultado_U_M2} Watts por metro cuadrado\")\n",
    "FV_M2=density_flux_rad(resultado_V_M2)\n",
    "print(f\"La densidad de flujo de radiación en V:{FV_M2}W/m^2\")\n"
   ]
  },
  {
   "cell_type": "markdown",
   "id": "59e32d93",
   "metadata": {},
   "source": [
    "Densidad de flujo de Estrella tipo B1 en cada filtro"
   ]
  },
  {
   "cell_type": "code",
   "execution_count": 8,
   "id": "fe1835a0",
   "metadata": {},
   "outputs": [
    {
     "name": "stdout",
     "output_type": "stream",
     "text": [
      "Resultado de la integral: 2.388310775641993 Watts por metro cuadrado\n",
      "La densidad de flujo de radiación en U:7.503099587246226W/m^2\n",
      "Resultado de la integral: 1.9993034000721406 Watts por metro cuadrado\n",
      "La densidad de flujo de radiación en B:6.280996873963732W/m^2\n",
      "Resultado de la integral: 2.388310775641993 Watts por metro cuadrado\n",
      "La densidad de flujo de radiación en V:2.6085282540954786W/m^2\n"
     ]
    }
   ],
   "source": [
    "#Estrella tipo B1\n",
    "#U\n",
    "resultado_U_B1 = integrar_cuerpo_negro(T_eff_B1, Uinf,Usup)\n",
    "print(f\"Resultado de la integral: {resultado_U_B1} Watts por metro cuadrado\")\n",
    "FU_B1=density_flux_rad(resultado_U_B1)\n",
    "print(f\"La densidad de flujo de radiación en U:{FU_B1}W/m^2\")\n",
    "\n",
    "#B\n",
    "resultado_B_B1 = integrar_cuerpo_negro(T_eff_B1, Binf,Bsup)\n",
    "print(f\"Resultado de la integral: {resultado_B_B1} Watts por metro cuadrado\")\n",
    "FB_B1=density_flux_rad(resultado_B_B1)\n",
    "print(f\"La densidad de flujo de radiación en B:{FB_B1}W/m^2\")\n",
    "#V\n",
    "resultado_V_B1 = integrar_cuerpo_negro(T_eff_B1, Vinf,Vsup)\n",
    "print(f\"Resultado de la integral: {resultado_U_B1} Watts por metro cuadrado\")\n",
    "FV_B1=density_flux_rad(resultado_V_B1)\n",
    "print(f\"La densidad de flujo de radiación en V:{FV_B1}W/m^2\")\n"
   ]
  },
  {
   "cell_type": "markdown",
   "id": "9104c396",
   "metadata": {},
   "source": [
    "Densidad de flujo de Estrella tipo O5 en cada filtro"
   ]
  },
  {
   "cell_type": "code",
   "execution_count": 9,
   "id": "5f4157b0",
   "metadata": {},
   "outputs": [
    {
     "name": "stdout",
     "output_type": "stream",
     "text": [
      "Resultado de la integral: 5.840624235689172 Watts por metro cuadrado\n",
      "La densidad de flujo de radiación en U:18.348862191219602W/m^2\n",
      "Resultado de la integral: 4.571851435001445 Watts por metro cuadrado\n",
      "La densidad de flujo de radiación en B:14.362894881504493W/m^2\n",
      "Resultado de la integral: 5.840624235689172 Watts por metro cuadrado\n",
      "La densidad de flujo de radiación en V:5.49495927330878W/m^2\n"
     ]
    }
   ],
   "source": [
    "#Estrella tipo O5\n",
    "#U\n",
    "resultado_U_O5 = integrar_cuerpo_negro(T_eff_O5, Uinf,Usup)\n",
    "print(f\"Resultado de la integral: {resultado_U_O5} Watts por metro cuadrado\")\n",
    "FU_O5=density_flux_rad(resultado_U_O5)\n",
    "print(f\"La densidad de flujo de radiación en U:{FU_O5}W/m^2\")\n",
    "\n",
    "#B\n",
    "resultado_B_O5 = integrar_cuerpo_negro(T_eff_O5, Binf,Bsup)\n",
    "print(f\"Resultado de la integral: {resultado_B_O5} Watts por metro cuadrado\")\n",
    "FB_O5=density_flux_rad(resultado_B_O5)\n",
    "print(f\"La densidad de flujo de radiación en B:{FB_O5}W/m^2\")\n",
    "#V\n",
    "resultado_V_O5 = integrar_cuerpo_negro(T_eff_O5, Vinf,Vsup)\n",
    "print(f\"Resultado de la integral: {resultado_U_O5} Watts por metro cuadrado\")\n",
    "FV_O5=density_flux_rad(resultado_V_O5)\n",
    "print(f\"La densidad de flujo de radiación en V:{FV_O5}W/m^2\")\n"
   ]
  },
  {
   "cell_type": "markdown",
   "id": "4f52e9c4",
   "metadata": {},
   "source": [
    "Magnitud absoluta de cada estrella"
   ]
  },
  {
   "cell_type": "code",
   "execution_count": 10,
   "id": "64d9f077",
   "metadata": {},
   "outputs": [],
   "source": [
    "def magnitud_absoluta(M_sol_filtro,R_R_sol,Ffiltro, Fsolfiltro):\n",
    "    M = M_sol_filtro - 2.5 * (math.log10((R_R_sol)**2*(Ffiltro/Fsolfiltro)))\n",
    "    return M\n"
   ]
  },
  {
   "cell_type": "code",
   "execution_count": 11,
   "id": "e1281885",
   "metadata": {},
   "outputs": [],
   "source": [
    "#Magnitud absoluta del sol por cada filtro\n",
    "M_solu= 5.61\n",
    "\n",
    "M_solb= 5.44\n",
    "\n",
    "M_solv= 4.81"
   ]
  },
  {
   "cell_type": "code",
   "execution_count": 12,
   "id": "a346de35",
   "metadata": {},
   "outputs": [
    {
     "name": "stdout",
     "output_type": "stream",
     "text": [
      "La magnitud absoluta en el filtro U de la estrella M2 es Mu=: 11.807099683930268\n",
      "La magnitud absoluta en el filtro U de la estrella M2 es Mb=: 10.887673965387185\n",
      "La magnitud absoluta en el filtro U de la estrella M2 es Mv=: 9.569579947733288\n"
     ]
    }
   ],
   "source": [
    "Mu_M2 = magnitud_absoluta(M_solu,R_R_sol_M2,FU_M2,FUsol)\n",
    "print(f\"La magnitud absoluta en el filtro U de la estrella M2 es Mu=: {Mu_M2}\")\n",
    "Mb_M2 = magnitud_absoluta(M_solb,R_R_sol_M2,FB_M2,FBsol)\n",
    "print(f\"La magnitud absoluta en el filtro U de la estrella M2 es Mb=: {Mb_M2}\")\n",
    "Mv_M2 = magnitud_absoluta(M_solv,R_R_sol_M2,FV_M2,FVsol)\n",
    "print(f\"La magnitud absoluta en el filtro U de la estrella M2 es Mv=: {Mv_M2}\")"
   ]
  },
  {
   "cell_type": "code",
   "execution_count": 13,
   "id": "db8294f4",
   "metadata": {},
   "outputs": [
    {
     "name": "stdout",
     "output_type": "stream",
     "text": [
      "La magnitud absoluta en el filtro U de la estrella B1 es Mu=: -4.054370452413983\n",
      "La magnitud absoluta en el filtro b de la estrella B1 es Mb=: -3.4029221868867596\n",
      "La magnitud absoluta en el filtro v de la estrella B1 es Mv=: -3.1236980544243025\n"
     ]
    }
   ],
   "source": [
    "Mu_B1 = magnitud_absoluta(M_solu,R_R_sol_B1,FU_B1,FUsol)\n",
    "print(f\"La magnitud absoluta en el filtro U de la estrella B1 es Mu=: {Mu_B1}\")\n",
    "Mb_B1 = magnitud_absoluta(M_solb,R_R_sol_B1,FB_B1,FBsol)\n",
    "print(f\"La magnitud absoluta en el filtro b de la estrella B1 es Mb=: {Mb_B1}\")\n",
    "Mv_B1 = magnitud_absoluta(M_solv,R_R_sol_B1,FV_B1,FVsol)\n",
    "print(f\"La magnitud absoluta en el filtro v de la estrella B1 es Mv=: {Mv_B1}\")"
   ]
  },
  {
   "cell_type": "code",
   "execution_count": 14,
   "id": "228888ec",
   "metadata": {},
   "outputs": [
    {
     "name": "stdout",
     "output_type": "stream",
     "text": [
      "La magnitud absoluta en el filtro U de la estrella O5 es Mu=: -7.080798796370101\n",
      "La magnitud absoluta en el filtro b de la estrella O5 es Mb=: -6.356462972375437\n",
      "La magnitud absoluta en el filtro v de la estrella O5 es Mv=: -5.988127660123715\n"
     ]
    }
   ],
   "source": [
    "Mu_O5 = magnitud_absoluta(M_solu,R_R_sol_O5,FU_O5,FUsol)\n",
    "print(f\"La magnitud absoluta en el filtro U de la estrella O5 es Mu=: {Mu_O5}\")\n",
    "Mb_O5 = magnitud_absoluta(M_solb,R_R_sol_O5,FB_O5,FBsol)\n",
    "print(f\"La magnitud absoluta en el filtro b de la estrella O5 es Mb=: {Mb_O5}\")\n",
    "Mv_O5 = magnitud_absoluta(M_solv,R_R_sol_O5,FV_O5,FVsol)\n",
    "print(f\"La magnitud absoluta en el filtro v de la estrella O5 es Mv=: {Mv_O5}\")"
   ]
  },
  {
   "cell_type": "markdown",
   "id": "926cf427",
   "metadata": {},
   "source": [
    "Magnitud aparente de cada estrella"
   ]
  },
  {
   "cell_type": "code",
   "execution_count": 15,
   "id": "6c2c5400",
   "metadata": {},
   "outputs": [],
   "source": [
    "d=5\n",
    "\n",
    "def magnitud_aparente(M):\n",
    "    return 5* math.log10(d)-5+M"
   ]
  },
  {
   "cell_type": "code",
   "execution_count": 16,
   "id": "16d34128",
   "metadata": {},
   "outputs": [
    {
     "name": "stdout",
     "output_type": "stream",
     "text": [
      "Magnitudes aparentes M2\n",
      "La magnitud aparente en U:10.301949705610362\n",
      "La magnitud aparente en B:9.382523987067279\n",
      "La magnitud aparente en V:8.064429969413382\n",
      "La diferencia de U-B: 0.9194257185430832\n",
      "La diferencia de B-V: 1.3180940176538964\n"
     ]
    }
   ],
   "source": [
    "print(\"Magnitudes aparentes M2\")\n",
    "U_M2=magnitud_aparente(Mu_M2)\n",
    "print(f\"La magnitud aparente en U:{U_M2}\")\n",
    "B_M2=magnitud_aparente(Mb_M2)\n",
    "print(f\"La magnitud aparente en B:{B_M2}\")\n",
    "V_M2=magnitud_aparente(Mv_M2)\n",
    "print(f\"La magnitud aparente en V:{V_M2}\")\n",
    "print(f\"La diferencia de U-B: {U_M2-B_M2}\")\n",
    "print(f\"La diferencia de B-V: {B_M2-V_M2}\")"
   ]
  },
  {
   "cell_type": "code",
   "execution_count": 17,
   "id": "b0973545",
   "metadata": {},
   "outputs": [
    {
     "name": "stdout",
     "output_type": "stream",
     "text": [
      "Magnitudes aparentes B1\n",
      "La magnitud aparente en U:-5.559520430733889\n",
      "La magnitud aparente en B:-4.908072165206665\n",
      "La magnitud aparente en V:-4.628848032744209\n",
      "La diferencia de U-B: -0.6514482655272236\n",
      "La diferencia de B-V: -0.27922413246245625\n"
     ]
    }
   ],
   "source": [
    "print(\"Magnitudes aparentes B1\")\n",
    "U_B1=magnitud_aparente(Mu_B1)\n",
    "print(f\"La magnitud aparente en U:{U_B1}\")\n",
    "B_B1=magnitud_aparente(Mb_B1)\n",
    "print(f\"La magnitud aparente en B:{B_B1}\")\n",
    "V_B1=magnitud_aparente(Mv_B1)\n",
    "print(f\"La magnitud aparente en V:{V_B1}\")\n",
    "print(f\"La diferencia de U-B: {U_B1-B_B1}\")\n",
    "print(f\"La diferencia de B-V: {B_B1-V_B1}\")"
   ]
  },
  {
   "cell_type": "code",
   "execution_count": 18,
   "id": "cdfbc18e",
   "metadata": {},
   "outputs": [
    {
     "name": "stdout",
     "output_type": "stream",
     "text": [
      "Magnitudes aparentes O5\n",
      "La magnitud aparente en U:-8.585948774690007\n",
      "La magnitud aparente en B:-7.861612950695342\n",
      "La magnitud aparente en V:-7.493277638443621\n",
      "La diferencia de U-B: -0.7243358239946645\n",
      "La diferencia de B-V: -0.36833531225172145\n"
     ]
    }
   ],
   "source": [
    "print(\"Magnitudes aparentes O5\")\n",
    "U_O5=magnitud_aparente(Mu_O5)\n",
    "print(f\"La magnitud aparente en U:{U_O5}\")\n",
    "B_O5=magnitud_aparente(Mb_O5)\n",
    "print(f\"La magnitud aparente en B:{B_O5}\")\n",
    "V_O5=magnitud_aparente(Mv_O5)\n",
    "print(f\"La magnitud aparente en V:{V_O5}\")\n",
    "print(f\"La diferencia de U-B: {U_O5-B_O5}\")\n",
    "print(f\"La diferencia de B-V: {B_O5-V_O5}\")"
   ]
  }
 ],
 "metadata": {
  "kernelspec": {
   "display_name": "Python 3 (ipykernel)",
   "language": "python",
   "name": "python3"
  },
  "language_info": {
   "codemirror_mode": {
    "name": "ipython",
    "version": 3
   },
   "file_extension": ".py",
   "mimetype": "text/x-python",
   "name": "python",
   "nbconvert_exporter": "python",
   "pygments_lexer": "ipython3",
   "version": "3.9.7"
  }
 },
 "nbformat": 4,
 "nbformat_minor": 5
}
